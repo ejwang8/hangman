{
 "cells": [
  {
   "cell_type": "code",
   "execution_count": 59,
   "metadata": {},
   "outputs": [],
   "source": [
    "import requests\n",
    "from bs4 import BeautifulSoup"
   ]
  },
  {
   "cell_type": "code",
   "execution_count": 81,
   "metadata": {},
   "outputs": [],
   "source": [
    "# music = billboard 100\n",
    "\n",
    "r = requests.get('https://www.billboard.com/charts/hot-100/')\n",
    "soup = BeautifulSoup(r.content, 'html.parser')\n",
    "result = soup.find_all('div', class_='o-chart-results-list-row-container')\n",
    "musicList = []\n",
    "for res in result:\n",
    "    musicList += [res.find('h3').text.strip(), res.find('h3').find_next('span').text.strip()]\n",
    "# return musicList"
   ]
  },
  {
   "cell_type": "code",
   "execution_count": 121,
   "metadata": {},
   "outputs": [],
   "source": [
    "# movies = imdb top 100 movies\n",
    "\n",
    "r2 = requests.get('https://www.imdb.com/list/ls055592025/')\n",
    "soup = BeautifulSoup(r2.content, 'html.parser')\n",
    "results = soup.find_all('h3', class_='lister-item-header')\n",
    "movieList = []\n",
    "for result in results:\n",
    "    movieList += [' '.join(result.text.split()[1:-1])]\n",
    "# return movieList"
   ]
  },
  {
   "cell_type": "code",
   "execution_count": 140,
   "metadata": {},
   "outputs": [
    {
     "data": {
      "text/plain": [
       "100"
      ]
     },
     "execution_count": 140,
     "metadata": {},
     "output_type": "execute_result"
    }
   ],
   "source": [
    "imageURLs = [image[\"loadlate\"] for image in soup.find_all('img', class_='loadlate')][:100]"
   ]
  },
  {
   "cell_type": "code",
   "execution_count": null,
   "metadata": {},
   "outputs": [],
   "source": []
  },
  {
   "cell_type": "code",
   "execution_count": null,
   "metadata": {},
   "outputs": [],
   "source": []
  }
 ],
 "metadata": {
  "kernelspec": {
   "display_name": "Python 3",
   "language": "python",
   "name": "python3"
  },
  "language_info": {
   "codemirror_mode": {
    "name": "ipython",
    "version": 3
   },
   "file_extension": ".py",
   "mimetype": "text/x-python",
   "name": "python",
   "nbconvert_exporter": "python",
   "pygments_lexer": "ipython3",
   "version": "3.8.1"
  }
 },
 "nbformat": 4,
 "nbformat_minor": 2
}
